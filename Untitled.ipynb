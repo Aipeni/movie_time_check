{
 "cells": [
  {
   "cell_type": "markdown",
   "id": "80a96020",
   "metadata": {},
   "source": [
    "this is a project to create last movie of a day so i can enjoy my alone moment in UK\n",
    "I will need to have\n",
    "- data(api?scrap?) to show the movie of a theatre\n",
    "- time of the movie end \n",
    "- data of the last buses to go home\n",
    "- maybe add a NLP analysis on the movie? and I can custom my preferences to see if i can analysis anything \n"
   ]
  },
  {
   "cell_type": "code",
   "execution_count": null,
   "id": "6a1ebaea",
   "metadata": {},
   "outputs": [],
   "source": []
  }
 ],
 "metadata": {
  "kernelspec": {
   "display_name": "Python 3 (ipykernel)",
   "language": "python",
   "name": "python3"
  },
  "language_info": {
   "codemirror_mode": {
    "name": "ipython",
    "version": 3
   },
   "file_extension": ".py",
   "mimetype": "text/x-python",
   "name": "python",
   "nbconvert_exporter": "python",
   "pygments_lexer": "ipython3",
   "version": "3.8.12"
  },
  "toc": {
   "base_numbering": 1,
   "nav_menu": {},
   "number_sections": true,
   "sideBar": true,
   "skip_h1_title": false,
   "title_cell": "Table of Contents",
   "title_sidebar": "Contents",
   "toc_cell": false,
   "toc_position": {},
   "toc_section_display": true,
   "toc_window_display": false
  }
 },
 "nbformat": 4,
 "nbformat_minor": 5
}
